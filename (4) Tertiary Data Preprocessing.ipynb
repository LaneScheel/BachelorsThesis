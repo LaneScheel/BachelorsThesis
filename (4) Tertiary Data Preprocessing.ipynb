{
 "cells": [
  {
   "cell_type": "markdown",
   "id": "29d908ef-f088-4488-a8ce-fb5a59240cd9",
   "metadata": {},
   "source": [
    "# This Notebook is for the purpose of Data Preprocessing"
   ]
  },
  {
   "cell_type": "code",
   "execution_count": 1,
   "id": "30a79162-80bc-4b81-a1ed-dfbfc4514fa0",
   "metadata": {},
   "outputs": [
    {
     "name": "stdout",
     "output_type": "stream",
     "text": [
      "True\n",
      "NVIDIA GeForce RTX 3080 Ti\n"
     ]
    }
   ],
   "source": [
    "import torch\n",
    "print(torch.cuda.is_available())\n",
    "print(torch.cuda.get_device_name(torch.cuda.current_device()))"
   ]
  },
  {
   "cell_type": "code",
   "execution_count": 2,
   "id": "bb2bab03-5313-4ea8-926f-99fc8e3435aa",
   "metadata": {},
   "outputs": [],
   "source": [
    "import os\n",
    "import json\n",
    "import numpy as np\n",
    "import pandas as pd\n",
    "import seaborn as sns\n",
    "import torch.nn as nn\n",
    "import matplotlib.pyplot as plt\n",
    "\n",
    "from torch.utils.data import DataLoader\n",
    "from torch.utils.data import Dataset\n",
    "from torchvision import datasets, transforms\n",
    "from torchvision.transforms import ToTensor"
   ]
  },
  {
   "cell_type": "markdown",
   "id": "6555bba1-293a-4f83-bc55-0fc0f31e8a94",
   "metadata": {},
   "source": [
    "### Let's try to write a custom dataset and dataloader"
   ]
  },
  {
   "cell_type": "code",
   "execution_count": 3,
   "id": "8163006f-0ad2-4814-9abb-0a426c712fc1",
   "metadata": {},
   "outputs": [],
   "source": [
    "# Define a custom dataset\n",
    "class SyntheticEventDataset(Dataset):\n",
    "\n",
    "    # Basic instantiation\n",
    "    def __init__(self, csv_folder_path):\n",
    "        self.csv_files = [os.path.join(csv_folder_path, f) for f in os.listdir(csv_folder_path) if f.endswith('.csv')]\n",
    "        self.data = []\n",
    "        \n",
    "        # Load each CSV file and preprocess the data\n",
    "        for file in self.csv_files:\n",
    "            df = pd.read_csv(file)\n",
    "            for _, row in df.iterrows():\n",
    "                # Extract parameters\n",
    "                chirp_mass = row['chirp_mass (sol)']\n",
    "                distance = row['distance (Mpc)']\n",
    "                inclination = row['inclination (rad)']\n",
    "                peak_snr = row['peak_snr']\n",
    "                \n",
    "                # Parse JSON-encoded waveform data\n",
    "                waveform = json.loads(row['signal (normalized)'])\n",
    "                \n",
    "                # Append to dataset\n",
    "                self.data.append((torch.tensor(waveform, dtype=torch.float32),\n",
    "                                  torch.tensor(chirp_mass, dtype=torch.float32)))\n",
    "    # Get length of datset    \n",
    "    def __len__(self):\n",
    "        return len(self.data)\n",
    "\n",
    "    # Fetch an item from the dataset\n",
    "    def __getitem__(self, idx):\n",
    "        return self.data[idx]"
   ]
  },
  {
   "cell_type": "markdown",
   "id": "42b68b46-6240-4825-b90b-45bff23e9c2a",
   "metadata": {},
   "source": [
    "### Declare the dataset"
   ]
  },
  {
   "cell_type": "code",
   "execution_count": 4,
   "id": "aa8ff785-6834-4084-bb89-fc988af44a76",
   "metadata": {},
   "outputs": [],
   "source": [
    "# Initialize Dataset and DataLoader\n",
    "dataset = SyntheticEventDataset(csv_folder_path='SyntheticSignalData/')"
   ]
  },
  {
   "cell_type": "markdown",
   "id": "8489723f-4441-4345-a7c9-8b89ae22e641",
   "metadata": {},
   "source": [
    "### Investigate the size and shape of the dataset"
   ]
  },
  {
   "cell_type": "code",
   "execution_count": 5,
   "id": "4fcd4bbd-bf73-4b75-bb0d-32bf0894c0b7",
   "metadata": {},
   "outputs": [
    {
     "name": "stdout",
     "output_type": "stream",
     "text": [
      "Total events in dataset: 10000\n",
      "Example event (waveform, parameters): (tensor([0., 0., 0.,  ..., 0., 0., 0.]), tensor(57.0173))\n"
     ]
    }
   ],
   "source": [
    "print(f\"Total events in dataset: {len(dataset)}\")\n",
    "print(\"Example event (waveform, parameters):\", dataset[0])  # Access the first event"
   ]
  },
  {
   "cell_type": "code",
   "execution_count": 6,
   "id": "176b33ff-656f-4b3f-86ad-628883cc237d",
   "metadata": {},
   "outputs": [
    {
     "name": "stdout",
     "output_type": "stream",
     "text": [
      "Waveform shape: torch.Size([27500])\n",
      "Parameters shape: torch.Size([])\n"
     ]
    }
   ],
   "source": [
    "waveform, parameters = dataset[0]\n",
    "print(\"Waveform shape:\", waveform.shape)  # Shape of time-series data\n",
    "print(\"Parameters shape:\", parameters.shape)  # Shape of parameter tensor"
   ]
  },
  {
   "cell_type": "markdown",
   "id": "fc1bcf58-5783-4812-9cf1-a60312c9c68f",
   "metadata": {},
   "source": [
    "### Calculate some parameter statistics just for the heck of it"
   ]
  },
  {
   "cell_type": "code",
   "execution_count": 7,
   "id": "7c032d0f-9062-4683-8941-60fa44e07805",
   "metadata": {},
   "outputs": [
    {
     "name": "stdout",
     "output_type": "stream",
     "text": [
      "Means: tensor(41.9032)\n",
      "Medians: tensor(40.4050)\n",
      "Standard Deviations: tensor(18.7895)\n"
     ]
    }
   ],
   "source": [
    "# Stack all parameter tensors for batch statistics\n",
    "all_parameters = torch.stack([params for _, params in dataset])\n",
    "\n",
    "# Calculate basic statistics\n",
    "means = torch.mean(all_parameters, dim=0)\n",
    "medians = torch.median(all_parameters, dim=0).values\n",
    "std_devs = torch.std(all_parameters, dim=0)\n",
    "\n",
    "print(\"Means:\", means)\n",
    "print(\"Medians:\", medians)\n",
    "print(\"Standard Deviations:\", std_devs)"
   ]
  },
  {
   "cell_type": "markdown",
   "id": "e09af96f-1c20-4485-a3b1-bb3b041ce759",
   "metadata": {},
   "source": [
    "### Ensure all waveforms are uniform in length"
   ]
  },
  {
   "cell_type": "code",
   "execution_count": 8,
   "id": "583cd234-9033-4d84-a6ec-63beda26bef4",
   "metadata": {},
   "outputs": [
    {
     "name": "stdout",
     "output_type": "stream",
     "text": [
      "Unique waveform lengths: {27500}\n"
     ]
    }
   ],
   "source": [
    "waveform_lengths = [waveform.shape[0] for waveform, _ in dataset]\n",
    "unique_lengths = set(waveform_lengths)\n",
    "print(\"Unique waveform lengths:\", unique_lengths)"
   ]
  },
  {
   "cell_type": "markdown",
   "id": "5e8b0e1e-4e53-4dd3-8b1b-4ef3f22dfc94",
   "metadata": {},
   "source": [
    "### Plot histograms for each parameter distribution"
   ]
  },
  {
   "cell_type": "code",
   "execution_count": 10,
   "id": "538faff0-6192-44de-b385-fb072909b383",
   "metadata": {},
   "outputs": [
    {
     "data": {
      "image/png": "[encoded data removed]",
      "text/plain": [
       "<Figure size 640x480 with 1 Axes>"
      ]
     },
     "metadata": {},
     "output_type": "display_data"
    }
   ],
   "source": [
    "# Convert parameters to numpy for Seaborn\n",
    "parameters_np = all_parameters.numpy()\n",
    "parameter_names = ['Chirp Mass (sol)']\n",
    "\n",
    "\n",
    "sns.histplot(parameters_np, kde=True)\n",
    "plt.title(f\"Distribution of Chirp Mass\")\n",
    "plt.xlabel(\"Cirp Mass\")\n",
    "plt.ylabel(\"Frequency\")\n",
    "plt.show()"
   ]
  },
  {
   "cell_type": "markdown",
   "id": "483dc168-b92c-4313-8aa4-a37c80e1f7e5",
   "metadata": {},
   "source": [
    "### Calculate a correlation matrix for the parameters"
   ]
  },
  {
   "cell_type": "code",
   "execution_count": 11,
   "id": "42449d58-61d5-4cc2-8f40-8e2f4b581b63",
   "metadata": {},
   "outputs": [
    {
     "name": "stdout",
     "output_type": "stream",
     "text": [
      "Correlation matrix:\n"
     ]
    },
    {
     "data": {
      "text/html": [
       "<div>\n",
       "<style scoped>\n",
       "    .dataframe tbody tr th:only-of-type {\n",
       "        vertical-align: middle;\n",
       "    }\n",
       "\n",
       "    .dataframe tbody tr th {\n",
       "        vertical-align: top;\n",
       "    }\n",
       "\n",
       "    .dataframe thead th {\n",
       "        text-align: right;\n",
       "    }\n",
       "</style>\n",
       "<table border=\"1\" class=\"dataframe\">\n",
       "  <thead>\n",
       "    <tr style=\"text-align: right;\">\n",
       "      <th></th>\n",
       "      <th>Chirp Mass (sol)</th>\n",
       "    </tr>\n",
       "  </thead>\n",
       "  <tbody>\n",
       "    <tr>\n",
       "      <th>Chirp Mass (sol)</th>\n",
       "      <td>1.0</td>\n",
       "    </tr>\n",
       "  </tbody>\n",
       "</table>\n",
       "</div>"
      ],
      "text/plain": [
       "                  Chirp Mass (sol)\n",
       "Chirp Mass (sol)               1.0"
      ]
     },
     "execution_count": 11,
     "metadata": {},
     "output_type": "execute_result"
    }
   ],
   "source": [
    "# Convert to DataFrame for easy correlation calculation\n",
    "df_params = pd.DataFrame(parameters_np, columns=parameter_names)\n",
    "correlation_matrix = df_params.corr()\n",
    "print(\"Correlation matrix:\")\n",
    "correlation_matrix"
   ]
  },
  {
   "cell_type": "markdown",
   "id": "fc8d3515-9e72-40bd-bbed-f8a3a0fa1624",
   "metadata": {},
   "source": [
    "### Let's plot a waveform from the dataset"
   ]
  },
  {
   "cell_type": "code",
   "execution_count": 12,
   "id": "b7db746f-2f38-4154-afbd-3c20aee5ac1f",
   "metadata": {},
   "outputs": [
    {
     "data": {
      "image/png": "[encoded data removed]",
      "text/plain": [
       "<Figure size 1200x400 with 1 Axes>"
      ]
     },
     "metadata": {},
     "output_type": "display_data"
    }
   ],
   "source": [
    "# Plot a sample waveform\n",
    "plt.figure(figsize=(12, 4))\n",
    "sample_waveform, _ = dataset[0]\n",
    "plt.plot(sample_waveform.numpy())\n",
    "plt.title(\"Sample Waveform\")\n",
    "plt.xlabel(\"Timestep\")\n",
    "plt.ylabel(\"Amplitude\")\n",
    "plt.xlim(0,27500)\n",
    "plt.show()"
   ]
  },
  {
   "cell_type": "markdown",
   "id": "f20a9d80-b062-4532-8275-a1b09f92142c",
   "metadata": {},
   "source": [
    "### Let's save the dataset to a single file for convenience"
   ]
  },
  {
   "cell_type": "code",
   "execution_count": 13,
   "id": "7dfbfd48-d8c6-404e-a58f-6a97d1bbb2fe",
   "metadata": {},
   "outputs": [],
   "source": [
    "torch.save(dataset, 'PyTorch_Synthetic_Data/synthetic_signal_dataset.pt')"
   ]
  },
  {
   "cell_type": "code",
   "execution_count": null,
   "id": "8521c632-e2ca-4b0d-a995-c77c5e1784fa",
   "metadata": {},
   "outputs": [],
   "source": []
  }
 ],
 "metadata": {
  "kernelspec": {
   "display_name": "Python3 (venv)",
   "language": "python",
   "name": "venv"
  },
  "language_info": {
   "codemirror_mode": {
    "name": "ipython",
    "version": 3
   },
   "file_extension": ".py",
   "mimetype": "text/x-python",
   "name": "python",
   "nbconvert_exporter": "python",
   "pygments_lexer": "ipython3",
   "version": "3.12.3"
  }
 },
 "nbformat": 4,
 "nbformat_minor": 5
}
